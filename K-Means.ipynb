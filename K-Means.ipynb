{
 "cells": [
  {
   "cell_type": "markdown",
   "metadata": {},
   "source": [
    "# K-Means Algorithm for 1D input"
   ]
  },
  {
   "cell_type": "code",
   "execution_count": 1,
   "metadata": {},
   "outputs": [
    {
     "data": {
      "text/plain": [
       "[2, 3, 6, 8, 9, 12, 15, 18, 22]"
      ]
     },
     "execution_count": 1,
     "metadata": {},
     "output_type": "execute_result"
    }
   ],
   "source": [
    "input_X = [2,3,6,8,9,12,15,18,22]\n",
    "input_X"
   ]
  },
  {
   "cell_type": "markdown",
   "metadata": {},
   "source": [
    "# Taking no of clusters"
   ]
  },
  {
   "cell_type": "code",
   "execution_count": 2,
   "metadata": {},
   "outputs": [
    {
     "name": "stdout",
     "output_type": "stream",
     "text": [
      "Enter num of clusters: 2\n"
     ]
    },
    {
     "data": {
      "text/plain": [
       "2"
      ]
     },
     "execution_count": 2,
     "metadata": {},
     "output_type": "execute_result"
    }
   ],
   "source": [
    "k = int(input(\"Enter num of clusters: \"))\n",
    "k "
   ]
  },
  {
   "cell_type": "markdown",
   "metadata": {},
   "source": [
    "# Initializing Clusters"
   ]
  },
  {
   "cell_type": "code",
   "execution_count": 3,
   "metadata": {},
   "outputs": [
    {
     "name": "stdout",
     "output_type": "stream",
     "text": [
      "[[2], [3, 6, 8, 9, 12, 15, 18, 22]]\n"
     ]
    }
   ],
   "source": [
    "clusters = []\n",
    "\n",
    "for cluster in range(0,k):\n",
    "    clusters.append([input_X.pop(0)])\n",
    "\n",
    "for inputs in input_X:\n",
    "    clusters[cluster].append(inputs)\n",
    "    \n",
    "print(clusters)"
   ]
  },
  {
   "cell_type": "markdown",
   "metadata": {},
   "source": [
    "# Initializing Cluster Centroid"
   ]
  },
  {
   "cell_type": "code",
   "execution_count": 4,
   "metadata": {},
   "outputs": [
    {
     "data": {
      "text/plain": [
       "[2, 3]"
      ]
     },
     "execution_count": 4,
     "metadata": {},
     "output_type": "execute_result"
    }
   ],
   "source": [
    "cluster_centroids = []\n",
    "\n",
    "for cluster in range(0, k):\n",
    "    cluster_centroids.append(clusters[cluster][0])\n",
    "    \n",
    "cluster_centroids"
   ]
  },
  {
   "cell_type": "code",
   "execution_count": 5,
   "metadata": {},
   "outputs": [],
   "source": [
    "#function to calculate distance between any two points\n",
    "def cal_distance(x1, x2):\n",
    "    if x1-x2 < 0:\n",
    "        return -1*(x1-x2)\n",
    "    else:\n",
    "        return (x1-x2)"
   ]
  },
  {
   "cell_type": "code",
   "execution_count": 6,
   "metadata": {},
   "outputs": [
    {
     "data": {
      "text/plain": [
       "[[2], [3, 6, 8, 9, 12, 15, 18, 22]]"
      ]
     },
     "execution_count": 6,
     "metadata": {},
     "output_type": "execute_result"
    }
   ],
   "source": [
    "cluster_history = []\n",
    "\n",
    "for cluster in clusters:\n",
    "    cluster_history.append(cluster)\n",
    "    \n",
    "cluster_history"
   ]
  },
  {
   "cell_type": "code",
   "execution_count": 7,
   "metadata": {},
   "outputs": [],
   "source": [
    "to_stop = False\n",
    "counter = 0"
   ]
  },
  {
   "cell_type": "markdown",
   "metadata": {},
   "source": [
    "# K-Means Algorithm"
   ]
  },
  {
   "cell_type": "code",
   "execution_count": 8,
   "metadata": {},
   "outputs": [
    {
     "name": "stdout",
     "output_type": "stream",
     "text": [
      "Iteration 0\n",
      "[[2, 3, 6], [8, 9, 12, 15, 18, 22]]\n",
      "Iteration 1\n",
      "[[2, 3, 6, 8], [9, 12, 15, 18, 22]]\n",
      "Iteration 2\n",
      "[[2, 3, 6, 8, 9], [12, 15, 18, 22]]\n",
      "Iteration 3\n",
      "[[2, 3, 6, 8, 9], [12, 15, 18, 22]]\n"
     ]
    }
   ],
   "source": [
    "while not(to_stop):\n",
    "    cluster_centroids= []\n",
    "    clusters = []\n",
    "    \n",
    "    for cluster in cluster_history:\n",
    "        sum_of_data = 0\n",
    "        for data in cluster:\n",
    "            sum_of_data += data\n",
    "        cluster_centroids.append(sum_of_data / len(cluster))\n",
    "    \n",
    "    for cluster in cluster_history:\n",
    "        clusters.append([])\n",
    "        \n",
    "    for cluster in cluster_history:\n",
    "        for data in cluster:\n",
    "            distance = []\n",
    "            for centroid in cluster_centroids:\n",
    "                distance.append(cal_distance(data, centroid))\n",
    "                \n",
    "            min_distance = distance.index(min(distance))\n",
    "            if data not in clusters[min_distance]:\n",
    "                clusters[min_distance].append(data)\n",
    "            \n",
    "    print(f\"Iteration {counter}\")\n",
    "    print(clusters)\n",
    "    \n",
    "    counter += 1\n",
    "    \n",
    "    if clusters == cluster_history:\n",
    "        to_stop = True\n",
    "    else:\n",
    "        cluster_history = []\n",
    "        for cluster in clusters:\n",
    "            cluster_history.append(cluster)"
   ]
  },
  {
   "cell_type": "code",
   "execution_count": 9,
   "metadata": {},
   "outputs": [
    {
     "name": "stdout",
     "output_type": "stream",
     "text": [
      "Final Clustering Output\n",
      "Cluster 1: [2, 3, 6, 8, 9]\n",
      "Cluster 2: [12, 15, 18, 22]\n"
     ]
    }
   ],
   "source": [
    "print(\"Final Clustering Output\")\n",
    "no_of_cluster = 1 \n",
    "for cluster in clusters:\n",
    "    print(f\"Cluster {no_of_cluster}: {cluster}\")\n",
    "    no_of_cluster += 1"
   ]
  }
 ],
 "metadata": {
  "kernelspec": {
   "display_name": "Python 3",
   "language": "python",
   "name": "python3"
  },
  "language_info": {
   "codemirror_mode": {
    "name": "ipython",
    "version": 3
   },
   "file_extension": ".py",
   "mimetype": "text/x-python",
   "name": "python",
   "nbconvert_exporter": "python",
   "pygments_lexer": "ipython3",
   "version": "3.7.4"
  }
 },
 "nbformat": 4,
 "nbformat_minor": 2
}
